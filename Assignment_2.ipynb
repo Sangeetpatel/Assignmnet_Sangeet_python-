{
 "cells": [
  {
   "cell_type": "markdown",
   "id": "2ade0a3c",
   "metadata": {},
   "source": [
    "1.What are the two values of the Boolean data type? How do you write them?\n",
    "\n",
    "#Ans.\n",
    "\n",
    "These are the two boolean data type,\n",
    "1. True\n",
    "2. False\n",
    "\n",
    "Where 'T' in True and 'F' in False must be capitale letter."
   ]
  },
  {
   "cell_type": "markdown",
   "id": "0abdfe92",
   "metadata": {},
   "source": [
    "2. What are the three different types of Boolean operators?\n",
    "\n",
    "#Ans.\n",
    "\n",
    "1. AND\n",
    "2. OR\n",
    "3. NOT"
   ]
  },
  {
   "cell_type": "markdown",
   "id": "0c200baf",
   "metadata": {},
   "source": [
    "Make a list of each Boolean operator and truth tables (i.e. every possible combination of Boolean\n",
    "values for the operator and what it evaluate ).\n",
    "\n",
    "#Ans. \n",
    "\n",
    "True and True = True\n",
    "\n",
    "True and False = False\n",
    "\n",
    "False and True= False\n",
    "\n",
    "False and False = False\n",
    "\n",
    "\n",
    "True or True = True\n",
    "\n",
    "True or Flase = True\n",
    "\n",
    "False or True = True\n",
    "\n",
    "Flase or False = False\n",
    "\n",
    "\n",
    "not True = False\n",
    "not False = True"
   ]
  },
  {
   "cell_type": "markdown",
   "id": "09e6d30d",
   "metadata": {},
   "source": [
    "\n",
    "4. What are the values of the following expressions?\n",
    "(5 > 4) and (3 == 5)\n",
    "not (5 > 4)\n",
    "(5 > 4) or (3 == 5)\n",
    "not ((5 > 4) or (3 == 5))\n",
    "(True and True) and (True == False)\n",
    "(not False) or (not True)\n",
    "\n",
    "\n",
    "\n",
    "#Ans.\n",
    "\n",
    "(5 > 4) and (3 == 5) : False\n",
    "\n",
    "not (5 > 4) : False\n",
    "    \n",
    "(5 > 4) or (3 == 5) : True\n",
    "    \n",
    "not ((5 > 4) or (3 == 5)) : False\n",
    "    \n",
    "(True and True) and (True == False) : False\n",
    "    \n",
    "(not False) or (not True) : True\n",
    "    \n",
    "    \n",
    "    \n",
    "\n"
   ]
  },
  {
   "cell_type": "markdown",
   "id": "92f55fd8",
   "metadata": {},
   "source": [
    "5. What are the six comparison operator\n",
    "\n",
    "#Ans.\n",
    "\n",
    "1. > (grater than)\n",
    "2. >= (grater than or equal to)\n",
    "3. < (less than)\n",
    "4. <= (less than or equal to)\n",
    "5. == (is equal to)\n",
    "6. != (is not equal to)"
   ]
  },
  {
   "cell_type": "markdown",
   "id": "78f07b62",
   "metadata": {},
   "source": [
    "6. How do you tell the difference between the equal to and assignment operators?\n",
    "   Describe a condition and when you would use one.\n",
    "    \n",
    "#Ans.\n",
    "\n",
    "'Equal to' (==) is a comparision operator which use for to compare whether data or values are equal or not. it will give you boolean type output. (True or False) \n",
    "\n",
    "while assignment operator use for to assign any value to perticular variable or index.\n",
    "\n",
    "for example if I want to assign a value 5 to 'a' variable I would write a=5\n",
    "and if I want to compare a value to the another value i would write equal to (==) it will return boolean value (True or False)\n",
    "exm. 5==6, a==b, list_1==list_2\n"
   ]
  },
  {
   "cell_type": "markdown",
   "id": "5a10e354",
   "metadata": {},
   "source": [
    "#7. Identify the three blocks in this code:\n",
    "\n",
    "spam = 0\n",
    "if spam == 10:\n",
    "print('eggs')\n",
    "if spam > 5:\n",
    "print('bacon')\n",
    "else:\n",
    "print('ham')\n",
    "print('spam')\n",
    "print('spam')\n",
    "\n",
    "#Ans.\n",
    "\n",
    " 1. at print('eggs')\n",
    "\n",
    "error: expected an indented block, line 4\n",
    "\n",
    " 2. at print('bacon')\n",
    "\n",
    "error: expected an indented block, line 6\n",
    "\n",
    " 3 at print('ham')\n",
    "\n",
    "error: expected an indented block, line 8\n",
    "\n",
    "    \n",
    "    \n",
    " \n",
    "\n"
   ]
  },
  {
   "cell_type": "code",
   "execution_count": null,
   "id": "8dc7f008",
   "metadata": {},
   "outputs": [],
   "source": [
    "#8. Write code that prints Hello if 1 is stored in spam, prints Howdy if 2 is stored in spam, and prints Greetings!\n",
    "#if anything else is stored in spam.\n",
    "\n",
    "# Ans.\n",
    "\n",
    "spam=int(input(\"enter any number :\"))\n",
    "if spam==1:\n",
    "    print(\"Hello\")\n",
    "    \n",
    "elif spam==2:\n",
    "    print('Howdy')\n",
    "\n",
    "else:\n",
    "    print('Greetings!')\n",
    "\n"
   ]
  },
  {
   "cell_type": "markdown",
   "id": "b68d8da5",
   "metadata": {},
   "source": [
    "9. If your programme is stuck in an endless loop, what keys you’ll press?\n",
    "\n",
    "#Ans.\n",
    "\n",
    "ctrl + C\n",
    "we can use break function as well."
   ]
  },
  {
   "cell_type": "markdown",
   "id": "8a78d532",
   "metadata": {},
   "source": [
    "10. How can you tell the difference between break and continue?\n",
    "\n",
    "#Ans.\n",
    "\n",
    "The Python break statement stop the loop in which the statement is placed or written\n",
    "\n",
    "while a Python continue statement skips a single iteration in a loop. it allows you to continue the \n",
    "loop even when the condition is met\n"
   ]
  },
  {
   "cell_type": "markdown",
   "id": "ecca49c3",
   "metadata": {},
   "source": [
    "11. In a for loop, what is the difference between range(10), range(0, 10), and range(0, 10, 1)?\n",
    "\n",
    "#Ans.\n",
    "\n",
    "for i in range(10)\n",
    "\n",
    "it will give you (0,1,2,3,4,5,6,7,8,9)\n",
    "\n",
    "range(0,10) and range(0,10,1) will give you the same output as above so this three are same there is no difference."
   ]
  },
  {
   "cell_type": "code",
   "execution_count": null,
   "id": "f5a03d9b",
   "metadata": {},
   "outputs": [],
   "source": [
    "#12. Write a short program that prints the numbers 1 to 10 using a for loop. \n",
    "#Then write an equivalent program that prints the numbers 1 to 10 using a while loop.\n",
    "\n",
    "#Ans.\n",
    " \n",
    "#using for loop...    \n",
    "for i in range(10):\n",
    "    print(i+1)\n",
    "\n",
    "#using while loop    \n",
    "i=1\n",
    "while i<=10:\n",
    "    print(i)\n",
    "    i=i+1\n",
    "\n",
    "\n",
    "\n",
    "\n",
    "\n",
    "\n",
    "\n",
    "\n"
   ]
  },
  {
   "cell_type": "markdown",
   "id": "6eb82280",
   "metadata": {},
   "source": [
    "13. If you had a function named bacon() inside a module named spam, how would you call it after importing spam?\n",
    "\n",
    "#Ans.\n",
    "\n",
    "a function can be call ...\n",
    "\n",
    "spam.bacon()"
   ]
  }
 ],
 "metadata": {
  "kernelspec": {
   "display_name": "Python 3 (ipykernel)",
   "language": "python",
   "name": "python3"
  },
  "language_info": {
   "codemirror_mode": {
    "name": "ipython",
    "version": 3
   },
   "file_extension": ".py",
   "mimetype": "text/x-python",
   "name": "python",
   "nbconvert_exporter": "python",
   "pygments_lexer": "ipython3",
   "version": "3.9.7"
  }
 },
 "nbformat": 4,
 "nbformat_minor": 5
}
