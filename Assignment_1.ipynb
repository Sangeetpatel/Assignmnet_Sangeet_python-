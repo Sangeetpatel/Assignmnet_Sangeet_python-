{
 "cells": [
  {
   "cell_type": "markdown",
   "id": "fd71dd47",
   "metadata": {},
   "source": [
    "1. In the below elements which of them are values or an expression? eg:- values can be\n",
    "integer or string and expressions will be mathematical operators.\n",
    "*\n",
    "'hello'\n",
    "-87.8\n",
    "-\n",
    "/\n",
    "+\n",
    "6"
   ]
  },
  {
   "cell_type": "markdown",
   "id": "dcf796d9",
   "metadata": {},
   "source": [
    "#Ans.\n",
    "\n",
    "*         Expression(Operator)\n",
    "'hello'   value\n",
    "-87.8     value\n",
    "-         Expression(Operator)\n",
    "/         Expression(Operator)\n",
    "+         Expression(Operator)\n",
    "6         value\n",
    "\n"
   ]
  },
  {
   "cell_type": "markdown",
   "id": "8afe0f2f",
   "metadata": {},
   "source": [
    "2. What is the difference between string and variable?\n"
   ]
  },
  {
   "cell_type": "markdown",
   "id": "c010ad73",
   "metadata": {},
   "source": [
    "#Ans.\n",
    "\n",
    "string is a data type ,it can be usually a words,character or a mixture of numbers and characters which enlose with \"\" or '' in python,\n",
    "where variable is a store of information at memory space where we can assisgn any types of values.\n",
    "\n",
    "for example:\n",
    "    a=\"my name is a Sangeet\" where \"my name is a sangeet\" is a string and a is a variable."
   ]
  },
  {
   "cell_type": "markdown",
   "id": "3bf376a0",
   "metadata": {},
   "source": [
    "3. Describe three different data types."
   ]
  },
  {
   "cell_type": "markdown",
   "id": "0dfcb17f",
   "metadata": {},
   "source": [
    "#Ans.\n",
    "\n",
    "1.Numeric Type:\n",
    "    there is generally three types of numeric datatype in python\n",
    "    \n",
    "i. Integer:\n",
    "\n",
    "- integer is a number which is not fraction (whole number)\n",
    "Example:\n",
    "    25,500,241,5\n",
    "    \n",
    "ii. float\n",
    "-float is a fraction number\n",
    "Example: 25.34,15.10,65.45\n",
    "    \n",
    "iii. Copmlex number:\n",
    "- complex number contain a real number and imaginary number \n",
    "Example:\n",
    "    56+8j, 58+99j\n",
    "    \n",
    "2. Boolean:\n",
    "    \n",
    "data type with two buit in value called \"True\" and \"False\" known as a boolean type.\n",
    "Example: True, False, \n",
    "    \n",
    "   input\n",
    "    s=15\n",
    "    type(s)==int\n",
    "   \n",
    "   Output\n",
    "    True (boolean type)\n",
    "    \n",
    "3. Sequence Type:\n",
    "    \n",
    "Sequence is a orderd or non-ordered collection of similar or different data type. it allows us to store multiple values\n",
    "in effecient way.\n",
    "there are several sequence typein python like\n",
    "i. String: \n",
    "    collection of one or more character or mixture of numbers and characterswhich enclose in \"\" or '' in python\n",
    "    Exm. 'Suresh','supra231','5654*465-+'\n",
    "    \n",
    "ii. list: \n",
    "    it is odered collection of different type of data which can be iterable\n",
    "    Exm. [15,26,24],['sangeet','patel'],[15,'dsdf',15.2,18+5j]\n",
    "\n",
    "iii. Tuple:\n",
    "    it is just like a list, the only difference between both of them is that tuple are immutable object.\n",
    "    \n",
    "\n"
   ]
  },
  {
   "cell_type": "markdown",
   "id": "b28cfb15",
   "metadata": {},
   "source": [
    "4. What is an expression made up of? What do all expressions do?"
   ]
  },
  {
   "cell_type": "markdown",
   "id": "2429a512",
   "metadata": {},
   "source": [
    "#Ans.\n",
    "\n",
    "Expression is a combination of Operator and Operand that produce some other value that we wanted to perform and get\n",
    "Exm. +,-,/,*,<,>,<=,>=,==,int(56.8+25),"
   ]
  },
  {
   "cell_type": "markdown",
   "id": "656c175e",
   "metadata": {},
   "source": [
    "5. This assignment statements, like spam = 10. What is the difference between an\n",
    "expression and a statement?"
   ]
  },
  {
   "cell_type": "markdown",
   "id": "b762138d",
   "metadata": {},
   "source": [
    "#Ans.\n",
    "\n",
    "An expression is something that reduced to a value like \"1+5\",'5*7'\n",
    "where statment is spam=10 , it can not reduced to a value it only assign a 10 int in spam variable.\n",
    "if you write print(spam=10) it will give you invalid key argument error."
   ]
  },
  {
   "cell_type": "markdown",
   "id": "94a79b60",
   "metadata": {},
   "source": [
    "6. After running the following code, what does the variable bacon contain?\n",
    "bacon = 22\n",
    "bacon + 1"
   ]
  },
  {
   "cell_type": "markdown",
   "id": "25119919",
   "metadata": {},
   "source": [
    "#Ans.\n",
    "it still contain a 22 because we are not assigning a new value in bacon variable itsef.\n"
   ]
  },
  {
   "cell_type": "markdown",
   "id": "038d7aea",
   "metadata": {},
   "source": [
    "7. What should the values of the following two terms be?\n",
    "'spam'+'spamspam'\n",
    "'spam'*3"
   ]
  },
  {
   "cell_type": "markdown",
   "id": "d37cd076",
   "metadata": {},
   "source": [
    "#Ans.\n",
    "'spamspamspam'\n",
    "'spamspamspam'\n"
   ]
  },
  {
   "cell_type": "markdown",
   "id": "91eec441",
   "metadata": {},
   "source": [
    "8. Why is eggs a valid variable name while 100 is invalid?"
   ]
  },
  {
   "cell_type": "markdown",
   "id": "57da9c22",
   "metadata": {},
   "source": [
    "#Ans.\n",
    " any value can be assign to egg variable, while 100 is already a int type data in which we can not assign anything,\n",
    "    inshort variable can not begin with a numbers."
   ]
  },
  {
   "cell_type": "markdown",
   "id": "4b547bf4",
   "metadata": {},
   "source": [
    "9. What three functions can be used to get the integer, floating-point number, or string\n",
    "version of a value?"
   ]
  },
  {
   "cell_type": "markdown",
   "id": "9b0a7aa2",
   "metadata": {},
   "source": [
    "#Ans. \n",
    " the int(), float() and str() function will evalute to integer, floating and string accordingly.\n",
    "\n"
   ]
  },
  {
   "cell_type": "markdown",
   "id": "a01ca0ec",
   "metadata": {},
   "source": [
    "10. Why does this expression cause an error? How can you fix it?\n",
    "'I have eaten' + 99 + 'burritos'"
   ]
  },
  {
   "cell_type": "markdown",
   "id": "bfafb592",
   "metadata": {},
   "source": [
    "#Ans.\n",
    "String can be concatenate to other string only, while 99 is a int that's why it cause an error.\n",
    "\n",
    "correct statement would be 'I have eaten'+str(99)+'burritos'\n"
   ]
  }
 ],
 "metadata": {
  "kernelspec": {
   "display_name": "Python 3 (ipykernel)",
   "language": "python",
   "name": "python3"
  },
  "language_info": {
   "codemirror_mode": {
    "name": "ipython",
    "version": 3
   },
   "file_extension": ".py",
   "mimetype": "text/x-python",
   "name": "python",
   "nbconvert_exporter": "python",
   "pygments_lexer": "ipython3",
   "version": "3.9.7"
  }
 },
 "nbformat": 4,
 "nbformat_minor": 5
}
